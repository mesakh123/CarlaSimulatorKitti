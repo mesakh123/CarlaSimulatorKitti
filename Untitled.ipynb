{
 "cells": [
  {
   "cell_type": "code",
   "execution_count": 1,
   "id": "ca69b2e3",
   "metadata": {},
   "outputs": [],
   "source": [
    "import carla"
   ]
  },
  {
   "cell_type": "code",
   "execution_count": 2,
   "id": "aec5bc60",
   "metadata": {},
   "outputs": [],
   "source": [
    "client = carla.Client(\"127.0.0.1\",2000)"
   ]
  },
  {
   "cell_type": "code",
   "execution_count": 3,
   "id": "e24e08b3",
   "metadata": {},
   "outputs": [],
   "source": [
    "world = client.get_world()"
   ]
  },
  {
   "cell_type": "code",
   "execution_count": 4,
   "id": "cf0c2992",
   "metadata": {},
   "outputs": [],
   "source": [
    "world = client.load_world(\"Town01\")"
   ]
  },
  {
   "cell_type": "code",
   "execution_count": null,
   "id": "50e1eb00",
   "metadata": {},
   "outputs": [],
   "source": []
  },
  {
   "cell_type": "code",
   "execution_count": null,
   "id": "4bf194d9",
   "metadata": {},
   "outputs": [],
   "source": []
  },
  {
   "cell_type": "code",
   "execution_count": null,
   "id": "00bd63d9",
   "metadata": {},
   "outputs": [],
   "source": []
  },
  {
   "cell_type": "code",
   "execution_count": null,
   "id": "bd027f99",
   "metadata": {},
   "outputs": [],
   "source": [
    "carla.Transform()"
   ]
  }
 ],
 "metadata": {
  "kernelspec": {
   "display_name": "Python 3 (ipykernel)",
   "language": "python",
   "name": "python3"
  },
  "language_info": {
   "codemirror_mode": {
    "name": "ipython",
    "version": 3
   },
   "file_extension": ".py",
   "mimetype": "text/x-python",
   "name": "python",
   "nbconvert_exporter": "python",
   "pygments_lexer": "ipython3",
   "version": "3.8.10"
  }
 },
 "nbformat": 4,
 "nbformat_minor": 5
}
